{
 "cells": [
  {
   "cell_type": "code",
   "execution_count": 1,
   "id": "0a3033c2",
   "metadata": {},
   "outputs": [
    {
     "data": {
      "application/javascript": [
       "IPython.OutputArea.prototype._should_scroll = function(lines) {\n",
       "    return false;\n",
       "}\n"
      ],
      "text/plain": [
       "<IPython.core.display.Javascript object>"
      ]
     },
     "metadata": {},
     "output_type": "display_data"
    }
   ],
   "source": [
    "%%javascript\n",
    "IPython.OutputArea.prototype._should_scroll = function(lines) {\n",
    "    return false;\n",
    "}"
   ]
  },
  {
   "cell_type": "markdown",
   "id": "4d1bcd97",
   "metadata": {},
   "source": [
    "### Load in the libraries and the data"
   ]
  },
  {
   "cell_type": "code",
   "execution_count": 2,
   "id": "40472412",
   "metadata": {},
   "outputs": [],
   "source": [
    "import os\n",
    "import pandas as pd\n",
    "import matplotlib.pyplot as plt\n",
    "import seaborn as sns"
   ]
  },
  {
   "cell_type": "code",
   "execution_count": 22,
   "id": "8cda3ce4",
   "metadata": {},
   "outputs": [
    {
     "data": {
      "text/plain": [
       "'C:\\\\Users\\\\juhyu\\\\OneDrive\\\\Desktop\\\\JH\\\\SIM\\\\Year2\\\\Programming for data science\\\\Practice Assignment 08\\\\Practice Assignment 08'"
      ]
     },
     "execution_count": 22,
     "metadata": {},
     "output_type": "execute_result"
    }
   ],
   "source": [
    "#checking working directory and read the titanic data\n",
    "os.getcwd()"
   ]
  },
  {
   "cell_type": "code",
   "execution_count": 23,
   "id": "f3c52b0f",
   "metadata": {},
   "outputs": [],
   "source": [
    "titanic = pd.read_csv(\"titanic.csv\")"
   ]
  },
  {
   "cell_type": "markdown",
   "id": "5a73cec4",
   "metadata": {},
   "source": [
    "Let's take a look at the data"
   ]
  },
  {
   "cell_type": "code",
   "execution_count": 4,
   "id": "c3d19dea",
   "metadata": {
    "scrolled": true
   },
   "outputs": [
    {
     "data": {
      "text/html": [
       "<div>\n",
       "<style scoped>\n",
       "    .dataframe tbody tr th:only-of-type {\n",
       "        vertical-align: middle;\n",
       "    }\n",
       "\n",
       "    .dataframe tbody tr th {\n",
       "        vertical-align: top;\n",
       "    }\n",
       "\n",
       "    .dataframe thead th {\n",
       "        text-align: right;\n",
       "    }\n",
       "</style>\n",
       "<table border=\"1\" class=\"dataframe\">\n",
       "  <thead>\n",
       "    <tr style=\"text-align: right;\">\n",
       "      <th></th>\n",
       "      <th>PassengerId</th>\n",
       "      <th>Survived</th>\n",
       "      <th>Pclass</th>\n",
       "      <th>Name</th>\n",
       "      <th>Sex</th>\n",
       "      <th>Age</th>\n",
       "      <th>SibSp</th>\n",
       "      <th>Parch</th>\n",
       "      <th>Ticket</th>\n",
       "      <th>Fare</th>\n",
       "      <th>Cabin</th>\n",
       "      <th>Embarked</th>\n",
       "    </tr>\n",
       "  </thead>\n",
       "  <tbody>\n",
       "    <tr>\n",
       "      <th>0</th>\n",
       "      <td>1</td>\n",
       "      <td>0</td>\n",
       "      <td>3</td>\n",
       "      <td>Braund, Mr. Owen Harris</td>\n",
       "      <td>male</td>\n",
       "      <td>22.0</td>\n",
       "      <td>1</td>\n",
       "      <td>0</td>\n",
       "      <td>A/5 21171</td>\n",
       "      <td>7.2500</td>\n",
       "      <td>NaN</td>\n",
       "      <td>S</td>\n",
       "    </tr>\n",
       "    <tr>\n",
       "      <th>1</th>\n",
       "      <td>2</td>\n",
       "      <td>1</td>\n",
       "      <td>1</td>\n",
       "      <td>Cumings, Mrs. John Bradley (Florence Briggs Th...</td>\n",
       "      <td>female</td>\n",
       "      <td>38.0</td>\n",
       "      <td>1</td>\n",
       "      <td>0</td>\n",
       "      <td>PC 17599</td>\n",
       "      <td>71.2833</td>\n",
       "      <td>C85</td>\n",
       "      <td>C</td>\n",
       "    </tr>\n",
       "    <tr>\n",
       "      <th>2</th>\n",
       "      <td>3</td>\n",
       "      <td>1</td>\n",
       "      <td>3</td>\n",
       "      <td>Heikkinen, Miss. Laina</td>\n",
       "      <td>female</td>\n",
       "      <td>26.0</td>\n",
       "      <td>0</td>\n",
       "      <td>0</td>\n",
       "      <td>STON/O2. 3101282</td>\n",
       "      <td>7.9250</td>\n",
       "      <td>NaN</td>\n",
       "      <td>S</td>\n",
       "    </tr>\n",
       "    <tr>\n",
       "      <th>3</th>\n",
       "      <td>4</td>\n",
       "      <td>1</td>\n",
       "      <td>1</td>\n",
       "      <td>Futrelle, Mrs. Jacques Heath (Lily May Peel)</td>\n",
       "      <td>female</td>\n",
       "      <td>35.0</td>\n",
       "      <td>1</td>\n",
       "      <td>0</td>\n",
       "      <td>113803</td>\n",
       "      <td>53.1000</td>\n",
       "      <td>C123</td>\n",
       "      <td>S</td>\n",
       "    </tr>\n",
       "    <tr>\n",
       "      <th>4</th>\n",
       "      <td>5</td>\n",
       "      <td>0</td>\n",
       "      <td>3</td>\n",
       "      <td>Allen, Mr. William Henry</td>\n",
       "      <td>male</td>\n",
       "      <td>35.0</td>\n",
       "      <td>0</td>\n",
       "      <td>0</td>\n",
       "      <td>373450</td>\n",
       "      <td>8.0500</td>\n",
       "      <td>NaN</td>\n",
       "      <td>S</td>\n",
       "    </tr>\n",
       "    <tr>\n",
       "      <th>...</th>\n",
       "      <td>...</td>\n",
       "      <td>...</td>\n",
       "      <td>...</td>\n",
       "      <td>...</td>\n",
       "      <td>...</td>\n",
       "      <td>...</td>\n",
       "      <td>...</td>\n",
       "      <td>...</td>\n",
       "      <td>...</td>\n",
       "      <td>...</td>\n",
       "      <td>...</td>\n",
       "      <td>...</td>\n",
       "    </tr>\n",
       "    <tr>\n",
       "      <th>886</th>\n",
       "      <td>887</td>\n",
       "      <td>0</td>\n",
       "      <td>2</td>\n",
       "      <td>Montvila, Rev. Juozas</td>\n",
       "      <td>male</td>\n",
       "      <td>27.0</td>\n",
       "      <td>0</td>\n",
       "      <td>0</td>\n",
       "      <td>211536</td>\n",
       "      <td>13.0000</td>\n",
       "      <td>NaN</td>\n",
       "      <td>S</td>\n",
       "    </tr>\n",
       "    <tr>\n",
       "      <th>887</th>\n",
       "      <td>888</td>\n",
       "      <td>1</td>\n",
       "      <td>1</td>\n",
       "      <td>Graham, Miss. Margaret Edith</td>\n",
       "      <td>female</td>\n",
       "      <td>19.0</td>\n",
       "      <td>0</td>\n",
       "      <td>0</td>\n",
       "      <td>112053</td>\n",
       "      <td>30.0000</td>\n",
       "      <td>B42</td>\n",
       "      <td>S</td>\n",
       "    </tr>\n",
       "    <tr>\n",
       "      <th>888</th>\n",
       "      <td>889</td>\n",
       "      <td>0</td>\n",
       "      <td>3</td>\n",
       "      <td>Johnston, Miss. Catherine Helen \"Carrie\"</td>\n",
       "      <td>female</td>\n",
       "      <td>NaN</td>\n",
       "      <td>1</td>\n",
       "      <td>2</td>\n",
       "      <td>W./C. 6607</td>\n",
       "      <td>23.4500</td>\n",
       "      <td>NaN</td>\n",
       "      <td>S</td>\n",
       "    </tr>\n",
       "    <tr>\n",
       "      <th>889</th>\n",
       "      <td>890</td>\n",
       "      <td>1</td>\n",
       "      <td>1</td>\n",
       "      <td>Behr, Mr. Karl Howell</td>\n",
       "      <td>male</td>\n",
       "      <td>26.0</td>\n",
       "      <td>0</td>\n",
       "      <td>0</td>\n",
       "      <td>111369</td>\n",
       "      <td>30.0000</td>\n",
       "      <td>C148</td>\n",
       "      <td>C</td>\n",
       "    </tr>\n",
       "    <tr>\n",
       "      <th>890</th>\n",
       "      <td>891</td>\n",
       "      <td>0</td>\n",
       "      <td>3</td>\n",
       "      <td>Dooley, Mr. Patrick</td>\n",
       "      <td>male</td>\n",
       "      <td>32.0</td>\n",
       "      <td>0</td>\n",
       "      <td>0</td>\n",
       "      <td>370376</td>\n",
       "      <td>7.7500</td>\n",
       "      <td>NaN</td>\n",
       "      <td>Q</td>\n",
       "    </tr>\n",
       "  </tbody>\n",
       "</table>\n",
       "<p>891 rows × 12 columns</p>\n",
       "</div>"
      ],
      "text/plain": [
       "     PassengerId  Survived  Pclass  \\\n",
       "0              1         0       3   \n",
       "1              2         1       1   \n",
       "2              3         1       3   \n",
       "3              4         1       1   \n",
       "4              5         0       3   \n",
       "..           ...       ...     ...   \n",
       "886          887         0       2   \n",
       "887          888         1       1   \n",
       "888          889         0       3   \n",
       "889          890         1       1   \n",
       "890          891         0       3   \n",
       "\n",
       "                                                  Name     Sex   Age  SibSp  \\\n",
       "0                              Braund, Mr. Owen Harris    male  22.0      1   \n",
       "1    Cumings, Mrs. John Bradley (Florence Briggs Th...  female  38.0      1   \n",
       "2                               Heikkinen, Miss. Laina  female  26.0      0   \n",
       "3         Futrelle, Mrs. Jacques Heath (Lily May Peel)  female  35.0      1   \n",
       "4                             Allen, Mr. William Henry    male  35.0      0   \n",
       "..                                                 ...     ...   ...    ...   \n",
       "886                              Montvila, Rev. Juozas    male  27.0      0   \n",
       "887                       Graham, Miss. Margaret Edith  female  19.0      0   \n",
       "888           Johnston, Miss. Catherine Helen \"Carrie\"  female   NaN      1   \n",
       "889                              Behr, Mr. Karl Howell    male  26.0      0   \n",
       "890                                Dooley, Mr. Patrick    male  32.0      0   \n",
       "\n",
       "     Parch            Ticket     Fare Cabin Embarked  \n",
       "0        0         A/5 21171   7.2500   NaN        S  \n",
       "1        0          PC 17599  71.2833   C85        C  \n",
       "2        0  STON/O2. 3101282   7.9250   NaN        S  \n",
       "3        0            113803  53.1000  C123        S  \n",
       "4        0            373450   8.0500   NaN        S  \n",
       "..     ...               ...      ...   ...      ...  \n",
       "886      0            211536  13.0000   NaN        S  \n",
       "887      0            112053  30.0000   B42        S  \n",
       "888      2        W./C. 6607  23.4500   NaN        S  \n",
       "889      0            111369  30.0000  C148        C  \n",
       "890      0            370376   7.7500   NaN        Q  \n",
       "\n",
       "[891 rows x 12 columns]"
      ]
     },
     "execution_count": 4,
     "metadata": {},
     "output_type": "execute_result"
    }
   ],
   "source": [
    "titanic"
   ]
  },
  {
   "cell_type": "markdown",
   "id": "2a8eddc2",
   "metadata": {},
   "source": [
    "Create the column `family size`, which is the number of sibling + spouses + number of parents + number of children + him/herself"
   ]
  },
  {
   "cell_type": "code",
   "execution_count": 5,
   "id": "007ad889",
   "metadata": {},
   "outputs": [],
   "source": [
    "titanic['family size'] = titanic['SibSp']+titanic['Parch'] + 1\n",
    "#titanic['SibSp'] shows the number of siblings/spouses aboard Titanic\n",
    "#titanic['Parch'] shows the number of children/parents aboard Titanic"
   ]
  },
  {
   "cell_type": "markdown",
   "id": "f51f8fef",
   "metadata": {},
   "source": [
    "### Q1 Bar charts to describe gender , ticket class and survival of passengers\n",
    "\n",
    "#### a. Gender of the passengers onboard"
   ]
  },
  {
   "cell_type": "code",
   "execution_count": 6,
   "id": "cfed7e57",
   "metadata": {
    "scrolled": true
   },
   "outputs": [
    {
     "data": {
      "image/png": "[encoded data removed]",
      "text/plain": [
       "<Figure size 432x288 with 1 Axes>"
      ]
     },
     "metadata": {
      "needs_background": "light"
     },
     "output_type": "display_data"
    }
   ],
   "source": [
    "titanic.groupby('Sex').size().plot.bar(title = 'Gender of the passengers onboard', ylabel = \"number of passengers\", xlabel = \"gender\");"
   ]
  },
  {
   "cell_type": "markdown",
   "id": "894b191b",
   "metadata": {},
   "source": [
    "#### b. Ticket class of the passengers onboard"
   ]
  },
  {
   "cell_type": "code",
   "execution_count": 7,
   "id": "88f6f99b",
   "metadata": {
    "scrolled": true
   },
   "outputs": [
    {
     "data": {
      "image/png": "[encoded data removed]",
      "text/plain": [
       "<Figure size 432x288 with 1 Axes>"
      ]
     },
     "metadata": {
      "needs_background": "light"
     },
     "output_type": "display_data"
    }
   ],
   "source": [
    "ax = titanic.groupby('Pclass').size().plot.bar(title = 'Ticket class of the passengers onboard', xlabel = \"ticket class\", ylabel = \"number of passengers\")\n",
    "ax.set_xticklabels((\"1st\", \"2nd\", \"3rd\"));\n",
    "#xticklables: naming for each of the bar - don't need to mutate the value"
   ]
  },
  {
   "cell_type": "markdown",
   "id": "bc0e5d66",
   "metadata": {},
   "source": [
    "#### c. Survival of the passengers onboard"
   ]
  },
  {
   "cell_type": "code",
   "execution_count": 8,
   "id": "a5043f96",
   "metadata": {},
   "outputs": [
    {
     "data": {
      "image/png": "[encoded data removed]",
      "text/plain": [
       "<Figure size 432x288 with 1 Axes>"
      ]
     },
     "metadata": {
      "needs_background": "light"
     },
     "output_type": "display_data"
    }
   ],
   "source": [
    "ax = titanic.groupby('Survived').size().plot.bar(title = 'Survival of the passengers onboard', xlabel = \"survived\", ylabel = \"number of passengers\")\n",
    "ax.set_xticklabels((\"No\", \"Yes\"));\n",
    "#survive graph will be survived('yes') or 'no'"
   ]
  },
  {
   "cell_type": "markdown",
   "id": "b24f9517",
   "metadata": {},
   "source": [
    "### Q2 Age of the passengers onboard\n",
    "\n",
    "#### a. Histogram for passengers' age"
   ]
  },
  {
   "cell_type": "code",
   "execution_count": 9,
   "id": "dc5c1527",
   "metadata": {
    "scrolled": true
   },
   "outputs": [
    {
     "data": {
      "image/png": "[encoded data removed]",
      "text/plain": [
       "<Figure size 432x288 with 1 Axes>"
      ]
     },
     "metadata": {
      "needs_background": "light"
     },
     "output_type": "display_data"
    }
   ],
   "source": [
    "titanic['Age'].plot(kind = 'hist', title = \"Age of the passengers onboard\");"
   ]
  },
  {
   "cell_type": "markdown",
   "id": "46ff5f46",
   "metadata": {},
   "source": [
    "#### b. Boxplot (group by ticket class)"
   ]
  },
  {
   "cell_type": "code",
   "execution_count": 10,
   "id": "0b681161",
   "metadata": {},
   "outputs": [
    {
     "data": {
      "image/png": "[encoded data removed]",
      "text/plain": [
       "<Figure size 576x288 with 1 Axes>"
      ]
     },
     "metadata": {
      "needs_background": "light"
     },
     "output_type": "display_data"
    }
   ],
   "source": [
    "fig, ax = plt.subplots(figsize = (8, 4))\n",
    "#8inch - horizonal, 4inch - vertical\n",
    "\n",
    "#used sns to add colors\n",
    "sns.boxplot(data = titanic, x = 'Pclass', y = 'Age', width = 0.3, #width of box = 0.3 \n",
    "            boxprops = dict(alpha=0.6)) # note in seaborn, alpha (and other parameters) is set in a different way\n",
    "                                        #alpha=transparency\n",
    "\n",
    "ax.set_xlabel(\"Ticket class\")\n",
    "ax.set_title(\"Age of the passengers onboard\")\n",
    "ax.set_xticklabels((\"1st\", \"2nd\", \"3rd\"));\n",
    "plt.show()"
   ]
  },
  {
   "cell_type": "markdown",
   "id": "b09ff709",
   "metadata": {},
   "source": [
    "\n",
    "#### b. Boxplot (group by survival)"
   ]
  },
  {
   "cell_type": "code",
   "execution_count": 11,
   "id": "518fec31",
   "metadata": {
    "scrolled": true
   },
   "outputs": [
    {
     "data": {
      "image/png": "[encoded data removed]",
      "text/plain": [
       "<Figure size 576x288 with 1 Axes>"
      ]
     },
     "metadata": {
      "needs_background": "light"
     },
     "output_type": "display_data"
    }
   ],
   "source": [
    "fig, ax = plt.subplots(figsize = (8, 4))\n",
    "\n",
    "sns.boxplot(data = titanic, x = 'Survived', y = 'Age', width = 0.3, \n",
    "            boxprops = dict(alpha=0.6)) # note in seaborn, alpha (and other parameters) is set in a different way\n",
    "\n",
    "ax.set_xlabel(\"Survived\")\n",
    "ax.set_xticklabels((\"No\", \"Yes\"));\n",
    "ax.set_title(\"Age of the passengers onboard\")\n",
    "plt.show()"
   ]
  },
  {
   "cell_type": "markdown",
   "id": "1a51fbff",
   "metadata": {},
   "source": [
    "### Q3 Travel fare of the passengers onboard"
   ]
  },
  {
   "cell_type": "code",
   "execution_count": 12,
   "id": "dba99223",
   "metadata": {},
   "outputs": [
    {
     "data": {
      "image/png": "[encoded data removed]",
      "text/plain": [
       "<Figure size 432x288 with 1 Axes>"
      ]
     },
     "metadata": {
      "needs_background": "light"
     },
     "output_type": "display_data"
    }
   ],
   "source": [
    "#'fare': continous data - plot it in histogram\n",
    "titanic['Fare'].plot(kind = 'hist', title = \"Travel fare of the passengers onboard\", xlabel = 'fare');"
   ]
  },
  {
   "cell_type": "code",
   "execution_count": 13,
   "id": "33e8deb4",
   "metadata": {},
   "outputs": [
    {
     "data": {
      "text/plain": [
       "Fare\n",
       "False    876\n",
       "True      15\n",
       "dtype: int64"
      ]
     },
     "execution_count": 13,
     "metadata": {},
     "output_type": "execute_result"
    }
   ],
   "source": [
    "titanic[['Fare']].apply(lambda x: x == 0).groupby('Fare').size()"
   ]
  },
  {
   "cell_type": "markdown",
   "id": "c4105d05",
   "metadata": {},
   "source": [
    "### Q4 Family size per ticket class\n",
    "\n",
    "Here let us explore graphs different from what we have shown for the R solution:"
   ]
  },
  {
   "cell_type": "code",
   "execution_count": 14,
   "id": "a868eb3d",
   "metadata": {
    "scrolled": true
   },
   "outputs": [
    {
     "data": {
      "image/png": "[encoded data removed]",
      "text/plain": [
       "<Figure size 432x288 with 1 Axes>"
      ]
     },
     "metadata": {
      "needs_background": "light"
     },
     "output_type": "display_data"
    }
   ],
   "source": [
    "ax = titanic.groupby(['Pclass', 'family size']).size().unstack().fillna(0).plot.bar(width=1.2, xlabel = 'ticket class', ylabel = 'frequency')\n",
    "#unstack the bar graph\n",
    "ax.set_xticklabels((\"1st\", \"2nd\", \"3rd\"));"
   ]
  },
  {
   "cell_type": "markdown",
   "id": "3eaa629e",
   "metadata": {},
   "source": [
    "Or histogram to show the family size per ticket class"
   ]
  },
  {
   "cell_type": "code",
   "execution_count": 15,
   "id": "56dd19ab",
   "metadata": {
    "scrolled": true
   },
   "outputs": [
    {
     "data": {
      "image/png": "[encoded data removed]",
      "text/plain": [
       "<Figure size 432x288 with 1 Axes>"
      ]
     },
     "metadata": {
      "needs_background": "light"
     },
     "output_type": "display_data"
    }
   ],
   "source": [
    "import numpy as np\n",
    "import matplotlib.pyplot as plt\n",
    "\n",
    "#plots the histogram\n",
    "fig, ax = plt.subplots()\n",
    "ax.hist([titanic.loc[titanic.Pclass == class_idx, \"family size\"]  #location based on family size\n",
    "         for class_idx in range(1,4)], density = True, #range(1,4)->include 1, exclude 4 \n",
    "        label=['1st', '2nd', '3rd'])  #label-> label for legend\n",
    "\n",
    "ax.set_ylabel(\"density\")\n",
    "ax.set_xlabel(\"family size\")\n",
    "plt.tight_layout()\n",
    "plt.legend(loc='upper right')\n",
    "plt.show()"
   ]
  },
  {
   "cell_type": "markdown",
   "id": "75e1c7b5",
   "metadata": {},
   "source": [
    "### Q5 Stacked bar charts to describe the survival rate per gender and ticket class\n",
    "\n",
    "#### Survival rate per gender"
   ]
  },
  {
   "cell_type": "code",
   "execution_count": 16,
   "id": "5a10fb0e",
   "metadata": {
    "scrolled": false
   },
   "outputs": [
    {
     "data": {
      "image/png": "[encoded data removed]",
      "text/plain": [
       "<Figure size 432x288 with 1 Axes>"
      ]
     },
     "metadata": {
      "needs_background": "light"
     },
     "output_type": "display_data"
    }
   ],
   "source": [
    "survival = titanic.groupby(['Sex','Survived']).size().unstack()\n",
    "survival.columns = [\"No\", \"Yes\"]\n",
    "survival.plot(kind='bar', stacked = True, ylabel = \"number of passengers\", xlabel = \"gender\");"
   ]
  },
  {
   "cell_type": "markdown",
   "id": "81fb3554",
   "metadata": {},
   "source": [
    "#### Survival rate per travel class"
   ]
  },
  {
   "cell_type": "code",
   "execution_count": 17,
   "id": "46371233",
   "metadata": {},
   "outputs": [
    {
     "data": {
      "image/png": "[encoded data removed]",
      "text/plain": [
       "<Figure size 432x288 with 1 Axes>"
      ]
     },
     "metadata": {
      "needs_background": "light"
     },
     "output_type": "display_data"
    }
   ],
   "source": [
    "survival = titanic.groupby(['Pclass','Survived']).size().unstack()\n",
    "survival.columns = [\"No\", \"Yes\"]\n",
    "survival.index = [\"1st\", \"2nd\", \"3rd\"] #changed index for 'Pclass'\n",
    "survival.plot(kind='bar', stacked = True, ylabel = \"number of passengers\", xlabel = \"travel clas\", title = \"Survival by travel class\");"
   ]
  },
  {
   "cell_type": "markdown",
   "id": "505cfd90",
   "metadata": {},
   "source": [
    "### Q6. Violin chart describing the survival rate per age and gender"
   ]
  },
  {
   "cell_type": "code",
   "execution_count": 21,
   "id": "2ea8fa98",
   "metadata": {
    "scrolled": true
   },
   "outputs": [
    {
     "data": {
      "image/png": "[encoded data removed]",
      "text/plain": [
       "<Figure size 432x288 with 1 Axes>"
      ]
     },
     "metadata": {
      "needs_background": "light"
     },
     "output_type": "display_data"
    }
   ],
   "source": [
    "ax = sns.violinplot(data = titanic, x = 'Sex', y = 'Age', hue = 'Survived', width = 0.3, split=True)  #hue: different color, split:based on hue\n",
    "ax.set_xlabel(\"gender\")\n",
    "plt.show()"
   ]
  },
  {
   "cell_type": "markdown",
   "id": "34e6804f",
   "metadata": {},
   "source": [
    "### Q7. Violin chart describing the survival rate per age and ticket class"
   ]
  },
  {
   "cell_type": "code",
   "execution_count": 19,
   "id": "ecbce425",
   "metadata": {},
   "outputs": [
    {
     "data": {
      "image/png": "[encoded data removed]",
      "text/plain": [
       "<Figure size 432x288 with 1 Axes>"
      ]
     },
     "metadata": {
      "needs_background": "light"
     },
     "output_type": "display_data"
    }
   ],
   "source": [
    "ax = sns.violinplot(data = titanic, x = 'Pclass', y = 'Age', hue = 'Survived', width = 0.3, split=True)\n",
    "ax.set_xlabel(\"ticket class\")\n",
    "plt.show()"
   ]
  }
 ],
 "metadata": {
  "kernelspec": {
   "display_name": "Python 3 (ipykernel)",
   "language": "python",
   "name": "python3"
  },
  "language_info": {
   "codemirror_mode": {
    "name": "ipython",
    "version": 3
   },
   "file_extension": ".py",
   "mimetype": "text/x-python",
   "name": "python",
   "nbconvert_exporter": "python",
   "pygments_lexer": "ipython3",
   "version": "3.9.7"
  }
 },
 "nbformat": 4,
 "nbformat_minor": 5
}
